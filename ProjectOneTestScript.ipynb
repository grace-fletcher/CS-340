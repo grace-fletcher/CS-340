{
 "cells": [
  {
   "cell_type": "code",
   "execution_count": 14,
   "id": "cb64e565-01ea-44c8-aee8-a576ffb6cd9f",
   "metadata": {},
   "outputs": [
    {
     "name": "stdout",
     "output_type": "stream",
     "text": [
      "Create result:  True\n",
      "Read result:  [{'_id': ObjectId('68c33572fcfd32900e635218'), 'rec_num': 135, 'age_upon_outcome': '2 months', 'animal_id': 'A688274', 'animal_type': 'Dog', 'breed': 'Chihuahua Shorthair Mix', 'color': 'Sable/White', 'date_of_birth': '2014-07-17', 'datetime': '2014-09-20 15:33:00', 'monthyear': '2014-09-20T15:33:00', 'name': '', 'outcome_subtype': 'Offsite', 'outcome_type': 'Adoption', 'sex_upon_outcome': 'Spayed Female', 'location_lat': 30.5013719729367, 'location_long': -97.5290782237142, 'age_upon_outcome_in_weeks': 9.37827380952381}]\n"
     ]
    },
    {
     "data": {
      "text/plain": [
       "0"
      ]
     },
     "execution_count": 14,
     "metadata": {},
     "output_type": "execute_result"
    }
   ],
   "source": [
    "# Python Testing Script\n",
    "# Use this template to create a Python testing script that imports your CRUD Python module to call and test the create and read instances of CRUD functionality. \n",
    "### 1. Import your CRUD Python module\n",
    "\n",
    "from CRUD_Python_Module import AnimalShelter\n",
    "\n",
    "### 2. Instantiate an instance of your class\n",
    "\n",
    "shelter = AnimalShelter()\n",
    "\n",
    "animal_data = { # Example animal record to be used in create function\n",
    "    \"rec_num\": 100007, # Record Number\n",
    "    \"age_upon_outcome\": \"6 years\", # Age of animal upon outcome\n",
    "    \"animal_id\": \"B123457\", # Unique ID of the animal\n",
    "    \"animal_type\": \"Dog\", # Type of animal\n",
    "    \"breed\": \"Beagle\", # Breed of animal\n",
    "    \"color\": \"Brown\", # Color of animal\n",
    "    \"date_of_birth\": \"2025-09-01\", # Date of birth of the animal\n",
    "    \"datetime\": \"2025-09-02 11:00:00\", # Date and time of outcome\n",
    "    \"monthyear\": \"2025-09\", # Month and year of outcome\n",
    "    \"name\": \"Dwayne\", # Name of the animal\n",
    "    \"outcome_subtype\": \"\", # Subtype of outcome (if applicable)\n",
    "    \"outcome_type\": \"Adoption\", # Type of outcome\n",
    "    \"sex_upon_outcome\": \"Male\", # Sex of the animal upon outcome\n",
    "    \"location_lat\": 53.1234, # Latitude of location\n",
    "    \"location_long\": -23.1234, # Longitude of location\n",
    "    \"age_upon_outcome_in_weeks\": 456 # Age of the animal upon outcome in weeks\n",
    "}\n",
    "\n",
    "### 3. Use your create function create a new record in the aac database\n",
    "\n",
    "create_result = shelter.create(animal_data)\n",
    "print(\"Create result: \", create_result) # Prints out the result from the create method\n",
    "\n",
    "### 4. Use your read funtion to return records from the aac database \n",
    "\n",
    "query = {\"rec_num\": 135} # Query to find record number 135\n",
    "read_result = shelter.read(query)\n",
    "print(\"Read result: \", read_result) # Prints out the result from the read method\n",
    "\n",
    "### 5. Use your update function to update an existing record in the aac database\n",
    "\n",
    "shelter.update(update_query, new_data)\n",
    "\n",
    "### 6. Use your delete function to delete an existing record in the aac database\n",
    "\n",
    "delete_query = {\"rec_num\" : 104} # We will be deleting record number 104\n",
    "shelter.delete(delete_query)\n",
    "\n"
   ]
  },
  {
   "cell_type": "code",
   "execution_count": 17,
   "id": "dcfa2d06-b532-4662-b489-3f8fecb4d844",
   "metadata": {
    "tags": []
   },
   "outputs": [
    {
     "data": {
      "text/plain": [
       "9"
      ]
     },
     "execution_count": 17,
     "metadata": {},
     "output_type": "execute_result"
    }
   ],
   "source": [
    "shelter.delete({\"name\":\"Mickey\"})"
   ]
  },
  {
   "cell_type": "code",
   "execution_count": 20,
   "id": "a46f998e-5e73-4bad-8819-d58a68d7ea85",
   "metadata": {
    "tags": []
   },
   "outputs": [
    {
     "data": {
      "text/plain": [
       "8"
      ]
     },
     "execution_count": 20,
     "metadata": {},
     "output_type": "execute_result"
    }
   ],
   "source": [
    "shelter.update({\"name\":\"Dwayne\"}, {\"name\":\"Sarge\"})"
   ]
  },
  {
   "cell_type": "code",
   "execution_count": null,
   "id": "67ae07ef-b3ca-4f7e-bb5c-9131ca56b122",
   "metadata": {},
   "outputs": [],
   "source": []
  }
 ],
 "metadata": {
  "kernelspec": {
   "display_name": "Python 3 (ipykernel)",
   "language": "python",
   "name": "python3"
  },
  "language_info": {
   "codemirror_mode": {
    "name": "ipython",
    "version": 3
   },
   "file_extension": ".py",
   "mimetype": "text/x-python",
   "name": "python",
   "nbconvert_exporter": "python",
   "pygments_lexer": "ipython3",
   "version": "3.11.2"
  }
 },
 "nbformat": 4,
 "nbformat_minor": 5
}
